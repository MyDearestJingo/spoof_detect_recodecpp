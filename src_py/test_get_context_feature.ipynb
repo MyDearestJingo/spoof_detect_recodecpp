{
 "cells": [
  {
   "cell_type": "code",
   "execution_count": 56,
   "metadata": {},
   "outputs": [],
   "source": [
    "import cv2\n",
    "import numpy as np\n",
    "import scipy\n",
    "from matplotlib import pyplot as plt"
   ]
  },
  {
   "cell_type": "code",
   "execution_count": 79,
   "metadata": {},
   "outputs": [],
   "source": [
    "def get_context_feature(img , crop_bbox):\n",
    "    img_hist =cv2.calcHist([img], [0], None, [256], [0, 256])  # 图像直方图\n",
    "    # cv2.calcHist(images, channels, mask, histSize, ranges[, hist[, accumulate]]) \n",
    "    face = img[crop_bbox[0]:crop_bbox[2],crop_bbox[1]:crop_bbox[3]] # ？进行图像裁剪\n",
    "    print(\"face.shape\",face.shape)\n",
    "#     cv2.imshow(\" \",face)\n",
    "#     cv2.waitKey(0)\n",
    "#     x = 50\n",
    "#     y = 50\n",
    "#     print(x,',',y,':',face[x,y])\n",
    "    \n",
    "    # cv2.rectangle(img, (crop_bbox[0], crop_bbox[1]),(crop_bbox[2], crop_bbox[3]), (0, 255, 0))\n",
    "\n",
    "    face_hist = cv2.calcHist([face], [0], None, [256], [0, 256])  # 人脸直方图\n",
    "    nonface_hist = img_hist - face_hist\n",
    "    \n",
    "    for i in range(40,50):\n",
    "        print(\"face_hist\",i,\":\",face_hist[i,0])\n",
    "    \n",
    "    print(\"nonface_hist\",56,\":\",nonface_hist[56,0])\n",
    "        \n",
    "#     for i in range(face_hist.size):\n",
    "#         print(i+1,\":\",face_hist[i,0])\n",
    "#         print(face_hist[i])|\n",
    "\n",
    "\n",
    "    print(\"sum of face_hist :\",sum(face_hist))\n",
    "    face_hist = face_hist/sum(face_hist)           # 人脸直方图归一化\n",
    "    nonface_hist = nonface_hist/sum(nonface_hist)  # 非人脸直方图归一化\n",
    "    return face_hist.reshape(256),nonface_hist.reshape(256)"
   ]
  },
  {
   "cell_type": "code",
   "execution_count": 80,
   "metadata": {},
   "outputs": [],
   "source": [
    "# 初始化传入参数\n",
    "crop_bbox = [10,10,100,100]\n",
    "img = cv2.imread(\"../lena.jpg\")\n",
    "img = cv2.cvtColor(img, cv2.COLOR_BGR2GRAY)\n",
    "# cv2.imshow(\"org\",img)\n",
    "# cv2.waitKey(0)"
   ]
  },
  {
   "cell_type": "code",
   "execution_count": 81,
   "metadata": {},
   "outputs": [
    {
     "name": "stdout",
     "output_type": "stream",
     "text": [
      "face.shape (90, 90)\n",
      "face_hist 40 : 0.0\n",
      "face_hist 41 : 0.0\n",
      "face_hist 42 : 0.0\n",
      "face_hist 43 : 0.0\n",
      "face_hist 44 : 0.0\n",
      "face_hist 45 : 0.0\n",
      "face_hist 46 : 0.0\n",
      "face_hist 47 : 0.0\n",
      "face_hist 48 : 0.0\n",
      "face_hist 49 : 0.0\n",
      "nonface_hist 56 : 1563.0\n",
      "sum of face_hist : [8100.]\n"
     ]
    }
   ],
   "source": [
    "face_hist, nonface_hist = get_context_feature(img,crop_bbox)"
   ]
  },
  {
   "cell_type": "code",
   "execution_count": 82,
   "metadata": {},
   "outputs": [
    {
     "name": "stdout",
     "output_type": "stream",
     "text": [
      "256\n",
      "Normalized_face_hist 140 : 0.0019753086\n"
     ]
    }
   ],
   "source": [
    "print(face_hist.size)\n",
    "i=140\n",
    "print(\"Normalized_face_hist\",i,\":\",face_hist[i])\n",
    "\n",
    "# face_hist.savetxt(\"./py_face_hist.txt\")"
   ]
  },
  {
   "cell_type": "code",
   "execution_count": null,
   "metadata": {},
   "outputs": [],
   "source": []
  }
 ],
 "metadata": {
  "kernelspec": {
   "display_name": "Python 3",
   "language": "python",
   "name": "python3"
  },
  "language_info": {
   "codemirror_mode": {
    "name": "ipython",
    "version": 3
   },
   "file_extension": ".py",
   "mimetype": "text/x-python",
   "name": "python",
   "nbconvert_exporter": "python",
   "pygments_lexer": "ipython3",
   "version": "3.7.1"
  }
 },
 "nbformat": 4,
 "nbformat_minor": 2
}
