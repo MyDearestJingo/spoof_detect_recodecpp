{
 "cells": [
  {
   "cell_type": "code",
   "execution_count": 2,
   "metadata": {},
   "outputs": [],
   "source": [
    "import cv2\n",
    "import numpy as np\n",
    "from matplotlib import pyplot as plt"
   ]
  },
  {
   "cell_type": "code",
   "execution_count": 3,
   "metadata": {},
   "outputs": [],
   "source": [
    "def get_context_feature(img , crop_bbox):\n",
    "    img_hist =cv2.calcHist([img], [0], None, [256], [0, 256])  # 图像直方图\n",
    "    # cv2.calcHist(images, channels, mask, histSize, ranges[, hist[, accumulate]]) \n",
    "    face = img[crop_bbox[0]:crop_bbox[2],crop_bbox[1]:crop_bbox[3]] # ？进行图像裁剪\n",
    "    print(\"face.shape\",face.shape)\n",
    "#     cv2.imshow(\" \",face)\n",
    "#     cv2.waitKey(0)\n",
    "#     x = 50\n",
    "#     y = 50\n",
    "#     print(x,',',y,':',face[x,y])\n",
    "    \n",
    "    # cv2.rectangle(img, (crop_bbox[0], crop_bbox[1]),(crop_bbox[2], crop_bbox[3]), (0, 255, 0))\n",
    "\n",
    "    face_hist = cv2.calcHist([face], [0], None, [256], [0, 256])  # 人脸直方图\n",
    "    nonface_hist = img_hist - face_hist\n",
    "    \n",
    "    for i in range(40,50):\n",
    "        print(\"face_hist\",i,\":\",face_hist[i,0])\n",
    "    \n",
    "    print(\"nonface_hist\",56,\":\",nonface_hist[56,0])\n",
    "        \n",
    "#     for i in range(face_hist.size):\n",
    "#         print(i+1,\":\",face_hist[i,0])\n",
    "#         print(face_hist[i])|\n",
    "\n",
    "\n",
    "    print(\"sum of face_hist :\",sum(face_hist))\n",
    "    face_hist = face_hist/sum(face_hist)           # 人脸直方图归一化\n",
    "    nonface_hist = nonface_hist/sum(nonface_hist)  # 非人脸直方图归一化\n",
    "    return face_hist.reshape(256),nonface_hist.reshape(256)"
   ]
  },
  {
   "cell_type": "code",
   "execution_count": 4,
   "metadata": {},
   "outputs": [
    {
     "name": "stdout",
     "output_type": "stream",
     "text": [
      "(542, 519)\n"
     ]
    }
   ],
   "source": [
    "# 初始化传入参数\n",
    "crop_bbox = [10,10,100,100]\n",
    "img = cv2.imread(\"../lena.jpg\")\n",
    "img = cv2.cvtColor(img, cv2.COLOR_BGR2GRAY)\n",
    "# cv2.imshow(\"org\",img)\n",
    "# cv2.waitKey(0)\n",
    "print(img.shape)"
   ]
  },
  {
   "cell_type": "code",
   "execution_count": 5,
   "metadata": {},
   "outputs": [
    {
     "name": "stdout",
     "output_type": "stream",
     "text": [
      "face.shape (90, 90)\n",
      "face_hist 40 : 0.0\n",
      "face_hist 41 : 0.0\n",
      "face_hist 42 : 0.0\n",
      "face_hist 43 : 0.0\n",
      "face_hist 44 : 0.0\n",
      "face_hist 45 : 0.0\n",
      "face_hist 46 : 0.0\n",
      "face_hist 47 : 0.0\n",
      "face_hist 48 : 0.0\n",
      "face_hist 49 : 0.0\n",
      "nonface_hist 56 : 1563.0\n",
      "sum of face_hist : [8100.]\n"
     ]
    }
   ],
   "source": [
    "face_hist, nonface_hist = get_context_feature(img,crop_bbox)"
   ]
  },
  {
   "cell_type": "code",
   "execution_count": 6,
   "metadata": {},
   "outputs": [
    {
     "name": "stdout",
     "output_type": "stream",
     "text": [
      "256\n",
      "Normalized_face_hist 140 : 0.0019753086\n"
     ]
    }
   ],
   "source": [
    "print(face_hist.size)\n",
    "i=140\n",
    "print(\"Normalized_face_hist\",i,\":\",face_hist[i])\n",
    "\n",
    "# face_hist.savetxt(\"./py_face_hist.txt\")"
   ]
  },
  {
   "cell_type": "code",
   "execution_count": 7,
   "metadata": {},
   "outputs": [],
   "source": [
    "from skimage import feature\n",
    "import scipy"
   ]
  },
  {
   "cell_type": "code",
   "execution_count": 8,
   "metadata": {},
   "outputs": [],
   "source": [
    "def get_lbp_feature(img,numPoints=8,radius=2):\n",
    "    # img = cv2.equalizeHist(img)\n",
    "    binsNumber = numPoints*(numPoints-1)+3 # 直方图bin的数量\n",
    "    binsRange = np.arange(0,binsNumber+1) # 生成[0, binsNumber+1]的np.array，直方图x轴分隔点分布\n",
    "    lbp = feature.local_binary_pattern(img, numPoints, radius, method = 'nri_uniform') #\n",
    "    (hist, bins) = np.histogram(lbp.ravel(), bins=binsRange, range=(0,binsNumber),) # ？bins无用\n",
    "    hist = hist/sum(hist) # ？归一化\n",
    "    return lbp, hist.reshape(binsNumber)"
   ]
  },
  {
   "cell_type": "code",
   "execution_count": 9,
   "metadata": {},
   "outputs": [],
   "source": [
    "lbp,hist = get_lbp_feature(img)"
   ]
  },
  {
   "cell_type": "code",
   "execution_count": 16,
   "metadata": {},
   "outputs": [
    {
     "data": {
      "text/plain": [
       "array([0.05115927, 0.01095991, 0.00360827, 0.01483836, 0.00396021,\n",
       "       0.00916821, 0.00326344, 0.01584085, 0.00495204, 0.00703524,\n",
       "       0.00679351, 0.00562748, 0.00491294, 0.00498404, 0.0053502 ,\n",
       "       0.00562393, 0.00609674, 0.01325996, 0.016271  , 0.0151583 ,\n",
       "       0.00415574, 0.00857809, 0.01286536, 0.01365811, 0.00557771,\n",
       "       0.01142561, 0.03613606, 0.04070416, 0.01313909, 0.00831147,\n",
       "       0.02429808, 0.03118046, 0.01318175, 0.01648785, 0.00906156,\n",
       "       0.03956658, 0.01148604, 0.01354791, 0.00580523, 0.03227183,\n",
       "       0.01008539, 0.00861364, 0.00924287, 0.01065774, 0.01003207,\n",
       "       0.00804485, 0.0070779 , 0.00767869, 0.00818705, 0.00907223,\n",
       "       0.0123179 , 0.01155714, 0.00897269, 0.00876295, 0.01148604,\n",
       "       0.0090118 , 0.00760404, 0.11418851, 0.16710393])"
      ]
     },
     "execution_count": 16,
     "metadata": {},
     "output_type": "execute_result"
    }
   ],
   "source": [
    "hist"
   ]
  },
  {
   "cell_type": "code",
   "execution_count": 11,
   "metadata": {},
   "outputs": [
    {
     "data": {
      "text/plain": [
       "37.0"
      ]
     },
     "execution_count": 11,
     "metadata": {},
     "output_type": "execute_result"
    }
   ],
   "source": [
    "count = 0\n",
    "lbp[539,451]"
   ]
  },
  {
   "cell_type": "code",
   "execution_count": 12,
   "metadata": {},
   "outputs": [
    {
     "data": {
      "text/plain": [
       "array([0, 1, 2, 3, 4, 5, 6, 7, 8])"
      ]
     },
     "execution_count": 12,
     "metadata": {},
     "output_type": "execute_result"
    }
   ],
   "source": [
    "binsNumber = 8\n",
    "binsRange = np.arange(0,binsNumber+1)\n",
    "binsRange"
   ]
  },
  {
   "cell_type": "code",
   "execution_count": null,
   "metadata": {},
   "outputs": [],
   "source": []
  },
  {
   "cell_type": "code",
   "execution_count": null,
   "metadata": {},
   "outputs": [],
   "source": []
  }
 ],
 "metadata": {
  "kernelspec": {
   "display_name": "Python 3",
   "language": "python",
   "name": "python3"
  },
  "language_info": {
   "codemirror_mode": {
    "name": "ipython",
    "version": 3
   },
   "file_extension": ".py",
   "mimetype": "text/x-python",
   "name": "python",
   "nbconvert_exporter": "python",
   "pygments_lexer": "ipython3",
   "version": "3.7.1"
  }
 },
 "nbformat": 4,
 "nbformat_minor": 2
}
